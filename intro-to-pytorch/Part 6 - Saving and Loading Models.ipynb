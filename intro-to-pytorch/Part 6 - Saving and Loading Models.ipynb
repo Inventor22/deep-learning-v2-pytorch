{
 "cells": [
  {
   "cell_type": "markdown",
   "metadata": {},
   "source": [
    "# Saving and Loading Models\n",
    "\n",
    "In this notebook, I'll show you how to save and load models with PyTorch. This is important because you'll often want to load previously trained models to use in making predictions or to continue training on new data."
   ]
  },
  {
   "cell_type": "code",
   "execution_count": 1,
   "metadata": {},
   "outputs": [],
   "source": [
    "%matplotlib inline\n",
    "%config InlineBackend.figure_format = 'retina'\n",
    "\n",
    "import matplotlib.pyplot as plt\n",
    "\n",
    "import torch\n",
    "from torch import nn\n",
    "from torch import optim\n",
    "import torch.nn.functional as F\n",
    "from torchvision import datasets, transforms\n",
    "\n",
    "import helper\n",
    "import fc_model"
   ]
  },
  {
   "cell_type": "code",
   "execution_count": 2,
   "metadata": {},
   "outputs": [
    {
     "name": "stderr",
     "output_type": "stream",
     "text": [
      "C:\\Users\\Dustin\\anaconda3\\lib\\site-packages\\torchvision\\datasets\\mnist.py:498: UserWarning: The given NumPy array is not writeable, and PyTorch does not support non-writeable tensors. This means you can write to the underlying (supposedly non-writeable) NumPy array using the tensor. You may want to copy the array to protect its data or make it writeable before converting it to a tensor. This type of warning will be suppressed for the rest of this program. (Triggered internally at  ..\\torch\\csrc\\utils\\tensor_numpy.cpp:180.)\n",
      "  return torch.from_numpy(parsed.astype(m[2], copy=False)).view(*s)\n"
     ]
    }
   ],
   "source": [
    "# Define a transform to normalize the data\n",
    "transform = transforms.Compose([transforms.ToTensor(),\n",
    "                                transforms.Normalize((0.5,), (0.5,))])\n",
    "# Download and load the training data\n",
    "trainset = datasets.FashionMNIST('~/.pytorch/F_MNIST_data/', download=True, train=True, transform=transform)\n",
    "trainloader = torch.utils.data.DataLoader(trainset, batch_size=64, shuffle=True)\n",
    "\n",
    "# Download and load the test data\n",
    "testset = datasets.FashionMNIST('~/.pytorch/F_MNIST_data/', download=True, train=False, transform=transform)\n",
    "testloader = torch.utils.data.DataLoader(testset, batch_size=64, shuffle=True)"
   ]
  },
  {
   "cell_type": "markdown",
   "metadata": {},
   "source": [
    "Here we can see one of the images."
   ]
  },
  {
   "cell_type": "code",
   "execution_count": 5,
   "metadata": {},
   "outputs": [
    {
     "data": {
      "image/png": "[encoded data removed]",
      "text/plain": [
       "<Figure size 432x288 with 1 Axes>"
      ]
     },
     "metadata": {
      "image/png": {
       "height": 231,
       "width": 231
      },
      "needs_background": "light"
     },
     "output_type": "display_data"
    }
   ],
   "source": [
    "image, label = next(iter(trainloader))\n",
    "helper.imshow(image[0,:]);"
   ]
  },
  {
   "cell_type": "markdown",
   "metadata": {},
   "source": [
    "# Train a network\n",
    "\n",
    "To make things more concise here, I moved the model architecture and training code from the last part to a file called `fc_model`. Importing this, we can easily create a fully-connected network with `fc_model.Network`, and train the network using `fc_model.train`. I'll use this model (once it's trained) to demonstrate how we can save and load models."
   ]
  },
  {
   "cell_type": "code",
   "execution_count": 6,
   "metadata": {},
   "outputs": [],
   "source": [
    "# Create the network, define the criterion and optimizer\n",
    "\n",
    "model = fc_model.Network(784, 10, [512, 256, 128])\n",
    "criterion = nn.NLLLoss()\n",
    "optimizer = optim.Adam(model.parameters(), lr=0.001)"
   ]
  },
  {
   "cell_type": "code",
   "execution_count": 7,
   "metadata": {},
   "outputs": [
    {
     "name": "stdout",
     "output_type": "stream",
     "text": [
      "Epoch: 1/2..  Training Loss: 1.727..  Test Loss: 1.024..  Test Accuracy: 0.613\n",
      "Epoch: 1/2..  Training Loss: 1.078..  Test Loss: 0.774..  Test Accuracy: 0.723\n",
      "Epoch: 1/2..  Training Loss: 0.871..  Test Loss: 0.681..  Test Accuracy: 0.745\n",
      "Epoch: 1/2..  Training Loss: 0.816..  Test Loss: 0.652..  Test Accuracy: 0.739\n",
      "Epoch: 1/2..  Training Loss: 0.755..  Test Loss: 0.631..  Test Accuracy: 0.754\n",
      "Epoch: 1/2..  Training Loss: 0.763..  Test Loss: 0.601..  Test Accuracy: 0.775\n",
      "Epoch: 1/2..  Training Loss: 0.681..  Test Loss: 0.617..  Test Accuracy: 0.756\n",
      "Epoch: 1/2..  Training Loss: 0.674..  Test Loss: 0.566..  Test Accuracy: 0.788\n",
      "Epoch: 1/2..  Training Loss: 0.658..  Test Loss: 0.567..  Test Accuracy: 0.790\n",
      "Epoch: 1/2..  Training Loss: 0.632..  Test Loss: 0.581..  Test Accuracy: 0.777\n",
      "Epoch: 1/2..  Training Loss: 0.660..  Test Loss: 0.570..  Test Accuracy: 0.786\n",
      "Epoch: 1/2..  Training Loss: 0.643..  Test Loss: 0.538..  Test Accuracy: 0.805\n",
      "Epoch: 1/2..  Training Loss: 0.636..  Test Loss: 0.512..  Test Accuracy: 0.808\n",
      "Epoch: 1/2..  Training Loss: 0.613..  Test Loss: 0.520..  Test Accuracy: 0.808\n",
      "Epoch: 1/2..  Training Loss: 0.575..  Test Loss: 0.514..  Test Accuracy: 0.810\n",
      "Epoch: 1/2..  Training Loss: 0.538..  Test Loss: 0.539..  Test Accuracy: 0.794\n",
      "Epoch: 1/2..  Training Loss: 0.615..  Test Loss: 0.499..  Test Accuracy: 0.809\n",
      "Epoch: 1/2..  Training Loss: 0.607..  Test Loss: 0.516..  Test Accuracy: 0.816\n",
      "Epoch: 1/2..  Training Loss: 0.594..  Test Loss: 0.534..  Test Accuracy: 0.804\n",
      "Epoch: 1/2..  Training Loss: 0.609..  Test Loss: 0.509..  Test Accuracy: 0.814\n",
      "Epoch: 1/2..  Training Loss: 0.612..  Test Loss: 0.487..  Test Accuracy: 0.829\n",
      "Epoch: 1/2..  Training Loss: 0.545..  Test Loss: 0.477..  Test Accuracy: 0.817\n",
      "Epoch: 1/2..  Training Loss: 0.586..  Test Loss: 0.483..  Test Accuracy: 0.825\n",
      "Epoch: 2/2..  Training Loss: 0.544..  Test Loss: 0.477..  Test Accuracy: 0.824\n",
      "Epoch: 2/2..  Training Loss: 0.561..  Test Loss: 0.465..  Test Accuracy: 0.830\n",
      "Epoch: 2/2..  Training Loss: 0.544..  Test Loss: 0.467..  Test Accuracy: 0.826\n",
      "Epoch: 2/2..  Training Loss: 0.556..  Test Loss: 0.484..  Test Accuracy: 0.818\n",
      "Epoch: 2/2..  Training Loss: 0.524..  Test Loss: 0.465..  Test Accuracy: 0.833\n",
      "Epoch: 2/2..  Training Loss: 0.564..  Test Loss: 0.472..  Test Accuracy: 0.823\n",
      "Epoch: 2/2..  Training Loss: 0.516..  Test Loss: 0.452..  Test Accuracy: 0.840\n",
      "Epoch: 2/2..  Training Loss: 0.543..  Test Loss: 0.474..  Test Accuracy: 0.823\n",
      "Epoch: 2/2..  Training Loss: 0.529..  Test Loss: 0.451..  Test Accuracy: 0.833\n",
      "Epoch: 2/2..  Training Loss: 0.528..  Test Loss: 0.468..  Test Accuracy: 0.828\n",
      "Epoch: 2/2..  Training Loss: 0.547..  Test Loss: 0.457..  Test Accuracy: 0.831\n",
      "Epoch: 2/2..  Training Loss: 0.519..  Test Loss: 0.466..  Test Accuracy: 0.832\n",
      "Epoch: 2/2..  Training Loss: 0.560..  Test Loss: 0.447..  Test Accuracy: 0.837\n",
      "Epoch: 2/2..  Training Loss: 0.544..  Test Loss: 0.450..  Test Accuracy: 0.841\n",
      "Epoch: 2/2..  Training Loss: 0.539..  Test Loss: 0.451..  Test Accuracy: 0.837\n",
      "Epoch: 2/2..  Training Loss: 0.517..  Test Loss: 0.452..  Test Accuracy: 0.838\n",
      "Epoch: 2/2..  Training Loss: 0.494..  Test Loss: 0.443..  Test Accuracy: 0.842\n",
      "Epoch: 2/2..  Training Loss: 0.521..  Test Loss: 0.445..  Test Accuracy: 0.835\n",
      "Epoch: 2/2..  Training Loss: 0.495..  Test Loss: 0.449..  Test Accuracy: 0.838\n",
      "Epoch: 2/2..  Training Loss: 0.502..  Test Loss: 0.447..  Test Accuracy: 0.836\n",
      "Epoch: 2/2..  Training Loss: 0.510..  Test Loss: 0.460..  Test Accuracy: 0.830\n",
      "Epoch: 2/2..  Training Loss: 0.511..  Test Loss: 0.443..  Test Accuracy: 0.840\n",
      "Epoch: 2/2..  Training Loss: 0.550..  Test Loss: 0.449..  Test Accuracy: 0.835\n"
     ]
    }
   ],
   "source": [
    "fc_model.train(model, trainloader, testloader, criterion, optimizer, epochs=2)"
   ]
  },
  {
   "cell_type": "markdown",
   "metadata": {},
   "source": [
    "## Saving and loading networks\n",
    "\n",
    "As you can imagine, it's impractical to train a network every time you need to use it. Instead, we can save trained networks then load them later to train more or use them for predictions.\n",
    "\n",
    "The parameters for PyTorch networks are stored in a model's `state_dict`. We can see the state dict contains the weight and bias matrices for each of our layers."
   ]
  },
  {
   "cell_type": "code",
   "execution_count": 20,
   "metadata": {},
   "outputs": [
    {
     "name": "stdout",
     "output_type": "stream",
     "text": [
      "Our model: \n",
      "\n",
      " Network(\n",
      "  (hidden_layers): ModuleList(\n",
      "    (0): Linear(in_features=784, out_features=400, bias=True)\n",
      "    (1): Linear(in_features=400, out_features=200, bias=True)\n",
      "    (2): Linear(in_features=200, out_features=100, bias=True)\n",
      "  )\n",
      "  (output): Linear(in_features=100, out_features=10, bias=True)\n",
      "  (dropout): Dropout(p=0.5, inplace=False)\n",
      ") \n",
      "\n",
      "The state dict keys: \n",
      "\n",
      " odict_keys(['hidden_layers.0.weight', 'hidden_layers.0.bias', 'hidden_layers.1.weight', 'hidden_layers.1.bias', 'hidden_layers.2.weight', 'hidden_layers.2.bias', 'output.weight', 'output.bias'])\n"
     ]
    }
   ],
   "source": [
    "print(\"Our model: \\n\\n\", model, '\\n')\n",
    "print(\"The state dict keys: \\n\\n\", model.state_dict().keys())"
   ]
  },
  {
   "cell_type": "code",
   "execution_count": 16,
   "metadata": {},
   "outputs": [
    {
     "data": {
      "text/plain": [
       "OrderedDict([('hidden_layers.0.weight',\n",
       "              tensor([[-0.0286,  0.0293,  0.0269,  ..., -0.0071,  0.0336, -0.0095],\n",
       "                      [-0.0261, -0.0166, -0.0253,  ...,  0.0238,  0.0198, -0.0279],\n",
       "                      [-0.0307, -0.0299,  0.0307,  ...,  0.0292,  0.0044, -0.0131],\n",
       "                      ...,\n",
       "                      [-0.0340, -0.0207,  0.0247,  ..., -0.0055, -0.0299, -0.0036],\n",
       "                      [ 0.0125, -0.0265, -0.0155,  ..., -0.0035,  0.0101,  0.0244],\n",
       "                      [-0.0033, -0.0340, -0.0182,  ..., -0.0113,  0.0227, -0.0043]])),\n",
       "             ('hidden_layers.0.bias',\n",
       "              tensor([-1.8020e-02,  1.6635e-02, -3.1739e-02, -3.3215e-02, -1.7256e-02,\n",
       "                       1.8705e-03,  1.2168e-02, -2.2204e-02,  1.4703e-03,  1.6740e-02,\n",
       "                      -3.4861e-02,  1.6725e-02, -3.0123e-02,  4.6286e-04,  2.5631e-02,\n",
       "                       2.4564e-02,  1.6624e-02, -5.8272e-03,  1.0559e-02,  4.8332e-03,\n",
       "                       3.1496e-02, -2.2297e-02, -6.3910e-03, -2.6703e-03, -1.8463e-02,\n",
       "                       2.2685e-02,  3.1853e-02,  2.2120e-02, -2.9323e-02,  7.8813e-03,\n",
       "                       1.4075e-02, -1.3893e-02, -2.6980e-02, -3.4226e-02, -3.4177e-03,\n",
       "                      -3.2386e-03,  2.0905e-02, -2.5380e-02,  1.5779e-02,  2.7737e-02,\n",
       "                      -1.0995e-02, -2.8474e-03, -3.8764e-04,  2.3954e-02,  3.3703e-02,\n",
       "                       1.0733e-02, -1.8339e-02,  3.2681e-02,  4.2845e-03,  1.7359e-02,\n",
       "                      -2.4912e-02, -2.6515e-02,  9.3966e-03,  1.8253e-03, -1.7418e-02,\n",
       "                       2.9694e-02,  7.1859e-03, -4.1071e-03,  3.3092e-02,  2.2670e-02,\n",
       "                      -1.7028e-02,  2.7731e-02,  3.4817e-02, -1.7575e-02,  3.1717e-03,\n",
       "                      -5.6262e-03,  3.4016e-02,  2.5188e-02,  1.7962e-02,  2.5141e-02,\n",
       "                      -7.9211e-03, -2.0537e-02, -2.9314e-02, -2.5327e-02,  1.7415e-02,\n",
       "                       2.5639e-02,  2.6116e-02,  3.5088e-02, -2.4289e-02,  6.4203e-04,\n",
       "                       5.1799e-03,  2.9005e-02, -2.8083e-02,  5.1476e-03,  8.8762e-03,\n",
       "                       3.4683e-02, -2.9016e-02,  3.4402e-02,  1.3451e-02,  2.7249e-02,\n",
       "                       1.7054e-03,  2.7538e-02,  1.8597e-02,  1.0959e-02, -1.6900e-02,\n",
       "                      -7.4424e-03,  2.8819e-02, -1.8754e-02,  2.3660e-03,  3.4276e-02,\n",
       "                      -1.4922e-02,  6.3805e-03,  5.9352e-03,  6.0288e-03, -5.1048e-03,\n",
       "                       1.4191e-02,  2.9756e-02, -1.4718e-02, -3.3477e-02,  2.9540e-03,\n",
       "                       2.0711e-02,  1.7984e-02, -1.3294e-02,  1.0822e-02, -1.3904e-02,\n",
       "                      -1.4649e-02,  1.9895e-02,  6.3007e-03,  3.0237e-02, -1.8860e-02,\n",
       "                       2.9283e-02,  2.1944e-02, -3.4550e-02,  2.3899e-02, -2.1021e-02,\n",
       "                      -2.2613e-02, -6.8550e-03, -5.0285e-04,  2.4169e-03,  1.7431e-02,\n",
       "                       2.1014e-02, -1.9562e-02, -8.5699e-03,  2.6321e-02, -2.6736e-02,\n",
       "                      -2.9809e-02, -2.5244e-02,  8.9703e-03, -3.2841e-02, -2.2250e-02,\n",
       "                      -3.5694e-02, -2.0983e-02,  1.6121e-02,  3.0553e-02,  2.7847e-02,\n",
       "                       1.5295e-03,  1.0407e-02,  2.7484e-02, -3.1508e-02, -2.3822e-03,\n",
       "                       2.0428e-02, -1.5798e-02,  2.1225e-02,  1.0812e-02,  3.1983e-02,\n",
       "                      -1.5272e-02, -6.1432e-03, -3.2013e-03,  1.6136e-02,  2.3684e-02,\n",
       "                       9.6817e-03,  1.7074e-02, -1.9913e-02, -3.0524e-02,  8.5441e-03,\n",
       "                       8.5277e-03,  1.4724e-03, -2.1254e-02, -1.0423e-02, -2.1509e-02,\n",
       "                      -1.6434e-02, -2.5644e-02,  2.2088e-02, -3.4282e-02, -8.2785e-03,\n",
       "                       3.5222e-02, -3.3381e-02, -1.0897e-02, -3.1928e-02, -9.2485e-03,\n",
       "                       2.3724e-02, -1.2597e-02, -3.0375e-02, -2.8648e-02,  2.1588e-02,\n",
       "                      -1.3919e-02, -7.3558e-04, -2.5442e-02, -5.9500e-03,  1.7578e-02,\n",
       "                      -2.7181e-02, -5.8534e-04,  3.8076e-03, -1.7450e-02, -6.2537e-04,\n",
       "                       2.5392e-02,  2.9158e-02,  8.4044e-03,  3.1204e-02,  2.7768e-02,\n",
       "                       1.1622e-03,  3.5063e-02, -1.2474e-02,  5.8359e-03,  2.8726e-02,\n",
       "                       2.6365e-02,  2.1910e-02,  2.0859e-02,  2.4003e-02,  2.9862e-03,\n",
       "                      -8.1418e-03, -2.5284e-02,  2.9174e-02, -1.6253e-02,  1.0401e-02,\n",
       "                      -2.2099e-02, -2.6092e-02, -5.3570e-03,  1.7924e-02,  3.1965e-02,\n",
       "                      -2.3664e-02,  3.0092e-02,  3.4191e-03, -1.8467e-03,  2.7879e-02,\n",
       "                       3.0867e-02,  6.6389e-03, -9.6195e-03,  1.2914e-02,  5.5029e-03,\n",
       "                       1.0213e-02, -4.0004e-03, -2.3180e-02, -2.0240e-02,  5.7055e-03,\n",
       "                       4.5296e-03, -1.7501e-02, -3.4557e-02,  1.6666e-03,  2.2634e-03,\n",
       "                      -3.0527e-02, -1.0590e-02,  3.0730e-02,  1.0314e-02,  4.7889e-03,\n",
       "                      -2.3133e-02,  2.3615e-02, -2.1614e-02,  2.6759e-02,  1.5288e-02,\n",
       "                      -2.8399e-02,  3.2287e-02,  2.5815e-02, -1.1324e-02, -3.2961e-02,\n",
       "                      -1.5124e-02,  1.5459e-02, -1.4893e-02,  1.5620e-02, -2.9313e-02,\n",
       "                       2.3402e-02, -3.4377e-02,  3.1637e-02,  2.2916e-02, -3.3921e-02,\n",
       "                      -2.0377e-02, -3.4514e-02,  1.0833e-03, -1.0747e-03,  3.4642e-02,\n",
       "                       2.4035e-02,  8.4015e-03,  2.5793e-02,  2.2208e-02, -1.0856e-02,\n",
       "                      -2.2417e-02,  4.2702e-03, -3.0505e-02,  1.3496e-03, -2.2831e-02,\n",
       "                      -4.4694e-03,  1.2678e-02, -1.6160e-02,  1.5775e-02,  1.2520e-02,\n",
       "                      -1.6837e-02, -1.7275e-02, -9.6928e-03,  1.7225e-02,  3.1879e-02,\n",
       "                       9.7623e-03,  2.3635e-02, -3.4912e-02,  1.9735e-02, -2.0180e-03,\n",
       "                      -1.3424e-02,  3.1474e-02,  2.2421e-02,  1.7384e-02, -1.4097e-02,\n",
       "                       2.3382e-02,  3.2612e-02, -2.1525e-02, -8.8730e-03, -2.3490e-02,\n",
       "                      -2.9623e-02, -2.7660e-02, -2.2843e-02,  1.9459e-02,  1.4864e-02,\n",
       "                      -2.0661e-02, -2.2648e-02,  1.9629e-02, -3.0100e-02,  2.1644e-02,\n",
       "                       1.5274e-02,  3.1312e-02,  2.0017e-02,  2.8395e-02,  3.5666e-02,\n",
       "                      -2.3357e-02,  6.2028e-04,  3.7048e-05, -6.6610e-03,  1.0098e-03,\n",
       "                       2.9054e-03,  4.6669e-03, -3.1275e-02, -1.2511e-02,  5.2537e-04,\n",
       "                      -9.2922e-03,  2.8348e-02,  2.7781e-02, -1.5859e-02,  3.2365e-03,\n",
       "                      -2.5459e-02, -2.5300e-02,  1.2952e-02, -2.4122e-02, -2.0667e-02,\n",
       "                       3.3184e-02, -1.4027e-02,  3.2982e-02,  6.0348e-03,  2.4369e-02,\n",
       "                       3.1462e-02,  3.4487e-02,  5.2072e-04, -3.1486e-02, -3.2791e-02,\n",
       "                       3.5447e-02, -5.4796e-03, -2.2336e-02,  2.3771e-02,  3.2972e-02,\n",
       "                      -8.4938e-03, -2.2839e-03, -2.9097e-02, -2.9641e-02, -2.1152e-02,\n",
       "                      -2.8000e-02, -2.6336e-02, -2.9057e-02,  1.8242e-02, -2.8100e-02,\n",
       "                      -1.7869e-02, -2.7831e-02,  1.9898e-02, -1.3052e-02, -2.0848e-02,\n",
       "                      -2.7346e-02, -3.3580e-02, -2.5710e-02, -3.4977e-02,  1.9549e-02,\n",
       "                       2.3546e-02, -1.6889e-02, -3.4377e-02, -2.4753e-02,  2.1067e-02,\n",
       "                       3.4668e-02, -1.0960e-02,  9.1352e-03, -1.8325e-02, -2.9298e-02,\n",
       "                      -5.2320e-04,  2.7899e-02, -1.0080e-02, -5.1342e-03, -7.0692e-03,\n",
       "                      -2.2887e-02, -2.8281e-02,  1.7332e-03, -3.0731e-02,  2.1678e-02,\n",
       "                       2.4376e-02,  3.2694e-02, -1.0449e-02, -2.7033e-02,  1.3457e-02])),\n",
       "             ('hidden_layers.1.weight',\n",
       "              tensor([[ 0.0123,  0.0479, -0.0470,  ..., -0.0189, -0.0043, -0.0208],\n",
       "                      [-0.0378,  0.0431,  0.0033,  ...,  0.0429, -0.0268, -0.0387],\n",
       "                      [-0.0219, -0.0304,  0.0295,  ..., -0.0486,  0.0305, -0.0190],\n",
       "                      ...,\n",
       "                      [-0.0205, -0.0127, -0.0184,  ..., -0.0081, -0.0042, -0.0291],\n",
       "                      [ 0.0093,  0.0493,  0.0149,  ..., -0.0235, -0.0376,  0.0416],\n",
       "                      [-0.0191, -0.0277,  0.0067,  ..., -0.0077,  0.0104,  0.0213]])),\n",
       "             ('hidden_layers.1.bias',\n",
       "              tensor([-0.0212,  0.0250,  0.0031, -0.0101, -0.0216, -0.0500, -0.0139, -0.0253,\n",
       "                      -0.0011, -0.0063, -0.0435,  0.0087, -0.0220,  0.0328, -0.0007, -0.0425,\n",
       "                       0.0347, -0.0042, -0.0409,  0.0369,  0.0485,  0.0436,  0.0063, -0.0195,\n",
       "                       0.0194,  0.0322,  0.0287,  0.0004,  0.0005,  0.0023, -0.0143, -0.0252,\n",
       "                       0.0072,  0.0359, -0.0304, -0.0151, -0.0159, -0.0272,  0.0428, -0.0028,\n",
       "                      -0.0242, -0.0128, -0.0263,  0.0268,  0.0180,  0.0477,  0.0325,  0.0392,\n",
       "                      -0.0352,  0.0449,  0.0113, -0.0302, -0.0233,  0.0400,  0.0282,  0.0258,\n",
       "                      -0.0271, -0.0333,  0.0014,  0.0327,  0.0017,  0.0244, -0.0031, -0.0310,\n",
       "                       0.0418,  0.0312,  0.0158, -0.0117,  0.0268, -0.0130,  0.0177, -0.0167,\n",
       "                      -0.0301, -0.0361,  0.0023, -0.0104, -0.0230,  0.0351,  0.0204, -0.0411,\n",
       "                       0.0115, -0.0112,  0.0475, -0.0172, -0.0465, -0.0076, -0.0252, -0.0354,\n",
       "                       0.0164, -0.0457, -0.0394,  0.0206,  0.0471, -0.0435,  0.0086, -0.0012,\n",
       "                       0.0240,  0.0278,  0.0021,  0.0045,  0.0428,  0.0488, -0.0289, -0.0070,\n",
       "                      -0.0190, -0.0054,  0.0401,  0.0146, -0.0075, -0.0480, -0.0456,  0.0085,\n",
       "                      -0.0066, -0.0126,  0.0248, -0.0082, -0.0451, -0.0102,  0.0442,  0.0403,\n",
       "                       0.0346,  0.0491,  0.0337,  0.0275,  0.0163, -0.0381, -0.0288, -0.0273,\n",
       "                       0.0407,  0.0431,  0.0350, -0.0216, -0.0427,  0.0232, -0.0173,  0.0100,\n",
       "                       0.0206, -0.0336,  0.0374,  0.0104, -0.0315, -0.0159,  0.0130,  0.0234,\n",
       "                      -0.0008, -0.0007,  0.0462,  0.0347, -0.0318, -0.0373, -0.0163,  0.0149,\n",
       "                      -0.0320, -0.0430, -0.0172,  0.0487,  0.0083, -0.0455, -0.0086,  0.0129,\n",
       "                       0.0232, -0.0230,  0.0279,  0.0235, -0.0020, -0.0105,  0.0225, -0.0155,\n",
       "                       0.0082,  0.0455, -0.0021,  0.0461,  0.0317, -0.0264, -0.0251,  0.0047,\n",
       "                       0.0389, -0.0096, -0.0477,  0.0291,  0.0121,  0.0107,  0.0121, -0.0441,\n",
       "                      -0.0233,  0.0245,  0.0141,  0.0313, -0.0452, -0.0056, -0.0043, -0.0401,\n",
       "                      -0.0330,  0.0306,  0.0308,  0.0265,  0.0366, -0.0079, -0.0401, -0.0167])),\n",
       "             ('hidden_layers.2.weight',\n",
       "              tensor([[ 0.0563,  0.0664, -0.0477,  ...,  0.0243,  0.0671,  0.0276],\n",
       "                      [-0.0483,  0.0378,  0.0547,  ...,  0.0194,  0.0179,  0.0438],\n",
       "                      [ 0.0473, -0.0643, -0.0430,  ...,  0.0669, -0.0658, -0.0675],\n",
       "                      ...,\n",
       "                      [ 0.0687, -0.0554,  0.0271,  ..., -0.0660,  0.0668, -0.0149],\n",
       "                      [-0.0347,  0.0443,  0.0201,  ..., -0.0265,  0.0300,  0.0228],\n",
       "                      [ 0.0035,  0.0534, -0.0110,  ...,  0.0252,  0.0016, -0.0111]])),\n",
       "             ('hidden_layers.2.bias',\n",
       "              tensor([ 0.0064, -0.0350, -0.0625, -0.0373,  0.0274, -0.0619, -0.0388, -0.0098,\n",
       "                      -0.0633,  0.0422,  0.0430,  0.0165,  0.0131, -0.0347, -0.0122, -0.0086,\n",
       "                       0.0428,  0.0659,  0.0318,  0.0167,  0.0068,  0.0520, -0.0499,  0.0359,\n",
       "                       0.0049, -0.0700,  0.0317,  0.0015, -0.0397, -0.0201, -0.0656, -0.0582,\n",
       "                       0.0452,  0.0595,  0.0634, -0.0090, -0.0451,  0.0347, -0.0558, -0.0399,\n",
       "                      -0.0440, -0.0393, -0.0353,  0.0313, -0.0420,  0.0002, -0.0225, -0.0594,\n",
       "                      -0.0185,  0.0555,  0.0655, -0.0674, -0.0600, -0.0516, -0.0161, -0.0051,\n",
       "                      -0.0632, -0.0105, -0.0362,  0.0617,  0.0432, -0.0539, -0.0704,  0.0336,\n",
       "                      -0.0076, -0.0512,  0.0518,  0.0395, -0.0523, -0.0452,  0.0241, -0.0286,\n",
       "                       0.0543,  0.0594, -0.0600,  0.0460, -0.0324,  0.0130,  0.0234,  0.0396,\n",
       "                      -0.0142, -0.0179,  0.0597,  0.0588,  0.0549, -0.0084,  0.0345,  0.0430,\n",
       "                       0.0536, -0.0620,  0.0002,  0.0493,  0.0145, -0.0607, -0.0648, -0.0533,\n",
       "                       0.0149, -0.0268,  0.0031,  0.0239])),\n",
       "             ('output.weight',\n",
       "              tensor([[-0.0476,  0.0086,  0.0548,  0.0816, -0.0620, -0.0547, -0.0445, -0.0979,\n",
       "                        0.0920,  0.1000,  0.0895,  0.0105, -0.0598,  0.0475,  0.0942, -0.0694,\n",
       "                        0.0390,  0.0687, -0.0614, -0.0787,  0.0715, -0.0786,  0.0673, -0.0730,\n",
       "                       -0.0805, -0.0634, -0.0754,  0.0817, -0.0826,  0.0407,  0.0971,  0.0473,\n",
       "                        0.0504,  0.0474, -0.0523, -0.0299, -0.0291, -0.0427,  0.0035, -0.0943,\n",
       "                        0.0665,  0.0301,  0.0862,  0.0220, -0.0187, -0.0673, -0.0789, -0.0914,\n",
       "                       -0.0615, -0.0945, -0.0530, -0.0619,  0.0641, -0.0603,  0.0189,  0.0735,\n",
       "                        0.0733, -0.0816,  0.0667,  0.0704,  0.0659, -0.0690,  0.0600,  0.0048,\n",
       "                        0.0533, -0.0270, -0.0699, -0.0805, -0.0520,  0.0644, -0.0936,  0.0006,\n",
       "                       -0.0690,  0.0407, -0.0181, -0.0493, -0.0639,  0.0961,  0.0622, -0.0986,\n",
       "                       -0.0179, -0.0097,  0.0623,  0.0633,  0.0099, -0.0160,  0.0151,  0.0165,\n",
       "                        0.0650,  0.0489,  0.0650,  0.0086, -0.0985, -0.0824, -0.0125, -0.0378,\n",
       "                       -0.0599,  0.0272, -0.0833, -0.0208],\n",
       "                      [ 0.0495, -0.0599, -0.0900,  0.0209,  0.0094,  0.0596, -0.0285, -0.0983,\n",
       "                        0.0295,  0.0507, -0.0705, -0.0800,  0.0361, -0.0243,  0.0768, -0.0632,\n",
       "                        0.0473, -0.0893, -0.0370, -0.0693, -0.0059, -0.0911,  0.0375,  0.0464,\n",
       "                        0.0603,  0.0275, -0.0834,  0.0285, -0.0154, -0.0683,  0.0753,  0.0655,\n",
       "                       -0.0879,  0.0791, -0.0640, -0.0810,  0.0430, -0.0442, -0.0247, -0.0262,\n",
       "                        0.0254,  0.0159, -0.0466, -0.0624,  0.0989, -0.0277, -0.0536,  0.0512,\n",
       "                        0.0414, -0.0181, -0.0319, -0.0873, -0.0015, -0.0057, -0.0164, -0.0414,\n",
       "                       -0.0103, -0.0534, -0.0218,  0.0158, -0.0551,  0.0080, -0.0689, -0.0806,\n",
       "                       -0.0286, -0.0269, -0.0121, -0.0048, -0.0622, -0.0753, -0.0789, -0.0434,\n",
       "                        0.0057,  0.0338,  0.0568, -0.0956,  0.0748,  0.0790,  0.0848, -0.0296,\n",
       "                       -0.0927,  0.0621,  0.0055, -0.0669,  0.0523,  0.0085, -0.0738,  0.0938,\n",
       "                        0.0056,  0.0764,  0.0411,  0.0107,  0.0818,  0.0977,  0.0983, -0.0079,\n",
       "                       -0.0908, -0.0059,  0.0653, -0.0772],\n",
       "                      [ 0.0518,  0.0145,  0.0167,  0.0400,  0.0801,  0.0522,  0.0902, -0.0803,\n",
       "                        0.0084, -0.0407, -0.0660, -0.0806,  0.0103,  0.0495,  0.0731,  0.0417,\n",
       "                        0.0435, -0.0474,  0.0067,  0.0130, -0.0838,  0.0713, -0.0658,  0.0731,\n",
       "                       -0.0424,  0.0653,  0.0427,  0.0073, -0.0849,  0.0495,  0.0659, -0.0561,\n",
       "                       -0.0421,  0.0656,  0.0840,  0.0281,  0.0374,  0.0253, -0.0483, -0.0149,\n",
       "                       -0.0445, -0.0355, -0.0595, -0.0461,  0.0526,  0.1000,  0.0143, -0.0442,\n",
       "                        0.0750, -0.0543, -0.0357, -0.0504, -0.0032, -0.0179,  0.0608,  0.0969,\n",
       "                        0.0355, -0.0171,  0.0813, -0.0259, -0.0126, -0.0769, -0.0852, -0.0726,\n",
       "                        0.0854,  0.0340,  0.0460,  0.0957, -0.0979,  0.0628, -0.0073, -0.0359,\n",
       "                       -0.0681, -0.0153,  0.0531,  0.0080,  0.0778, -0.0295,  0.0746, -0.0197,\n",
       "                        0.0995,  0.0923,  0.0996, -0.0854, -0.0267, -0.0853, -0.0526,  0.0778,\n",
       "                        0.0556, -0.0244, -0.0119,  0.0646, -0.0691,  0.0252,  0.0413, -0.0474,\n",
       "                        0.0756,  0.0846, -0.0215,  0.0885],\n",
       "                      [-0.0858, -0.0915,  0.0085, -0.0440, -0.0144,  0.0727, -0.0065, -0.0162,\n",
       "                       -0.0156, -0.0904,  0.0279, -0.0902,  0.0955,  0.0619, -0.0400,  0.0184,\n",
       "                        0.0351,  0.0094, -0.0257,  0.0068,  0.0789,  0.0473,  0.0403,  0.0701,\n",
       "                       -0.0515,  0.0833, -0.0075,  0.0127,  0.0011,  0.0710, -0.0091, -0.0723,\n",
       "                       -0.0406,  0.0279,  0.0802,  0.0930, -0.0173, -0.0218, -0.0968,  0.0168,\n",
       "                        0.0286,  0.0216,  0.0083, -0.0291,  0.0844,  0.0070, -0.0271,  0.0216,\n",
       "                        0.0890, -0.0859, -0.0434, -0.0275,  0.0033, -0.0963,  0.0102, -0.0098,\n",
       "                        0.0641, -0.0964,  0.0593,  0.0441, -0.0732, -0.0664,  0.0854, -0.0255,\n",
       "                       -0.0008, -0.0262,  0.0646, -0.0287,  0.0233, -0.0776, -0.0636, -0.0678,\n",
       "                        0.0142, -0.0424,  0.0134, -0.0255, -0.0876,  0.0953, -0.0854,  0.0513,\n",
       "                        0.0293,  0.0648, -0.0694,  0.0148,  0.0557,  0.0856, -0.0171, -0.0165,\n",
       "                       -0.0547,  0.0247, -0.0488, -0.0888,  0.0651, -0.0260, -0.0458, -0.0150,\n",
       "                        0.0322, -0.0411, -0.0197, -0.0443],\n",
       "                      [-0.0430, -0.0765,  0.0121, -0.0406, -0.0022,  0.0121, -0.0243, -0.0075,\n",
       "                       -0.0695, -0.0435, -0.0532,  0.0698,  0.0157, -0.0483, -0.0284, -0.0777,\n",
       "                       -0.0736, -0.0199,  0.0886, -0.0665,  0.0838, -0.0110, -0.0575, -0.0575,\n",
       "                       -0.0538,  0.0148,  0.0797,  0.0402, -0.0545,  0.0422,  0.0974, -0.0352,\n",
       "                       -0.0668,  0.0955, -0.0201, -0.0546, -0.0461, -0.0786, -0.0826,  0.0124,\n",
       "                       -0.0102,  0.0761,  0.0224,  0.0054, -0.0362, -0.0418,  0.0932, -0.0467,\n",
       "                        0.0598,  0.0907, -0.0162, -0.0141,  0.0701,  0.0310, -0.0322,  0.0385,\n",
       "                        0.0114, -0.0574,  0.0904, -0.0590,  0.0222, -0.0791, -0.0405, -0.0257,\n",
       "                       -0.0867, -0.0615,  0.0977,  0.0440, -0.0025, -0.0073, -0.0706, -0.0542,\n",
       "                       -0.0641, -0.0968, -0.0028,  0.0401,  0.0364, -0.0911,  0.0771,  0.0025,\n",
       "                        0.0140,  0.0782, -0.0401, -0.0593, -0.0043, -0.0994,  0.0627,  0.0964,\n",
       "                        0.0740, -0.0015,  0.0030,  0.0602,  0.0085, -0.0974, -0.0211, -0.0625,\n",
       "                        0.0843,  0.0909, -0.0971,  0.0108],\n",
       "                      [ 0.0173, -0.0093,  0.0502, -0.0417, -0.0315,  0.0254, -0.0591, -0.0496,\n",
       "                        0.0552,  0.0991, -0.0702, -0.0343,  0.0102,  0.0528,  0.0814, -0.0613,\n",
       "                        0.0946, -0.0337,  0.0352, -0.0170,  0.0576, -0.0714,  0.0274,  0.0988,\n",
       "                        0.0384, -0.0502,  0.0101, -0.0305, -0.0630,  0.0885,  0.0646,  0.0899,\n",
       "                        0.0650,  0.0415,  0.0617, -0.0610, -0.0552,  0.0149,  0.0494, -0.0525,\n",
       "                       -0.0202, -0.0282, -0.0432,  0.0024,  0.0511, -0.0131, -0.0205, -0.0799,\n",
       "                        0.0134,  0.0605,  0.0005,  0.0089, -0.0568,  0.0901, -0.0859,  0.0100,\n",
       "                       -0.0498, -0.0557, -0.0961, -0.0664, -0.0555, -0.0008, -0.0437,  0.0885,\n",
       "                        0.0353, -0.0632, -0.0888,  0.0596,  0.0071,  0.0264,  0.0260, -0.0479,\n",
       "                        0.0515, -0.0817,  0.0521, -0.0517, -0.0346, -0.0080,  0.0196,  0.0453,\n",
       "                       -0.0072, -0.0623, -0.0302,  0.0766, -0.0388, -0.0309,  0.0900, -0.0133,\n",
       "                       -0.0875, -0.0505,  0.0412, -0.0562,  0.0383,  0.0859, -0.0719, -0.0713,\n",
       "                       -0.0829,  0.0534, -0.0571, -0.0980],\n",
       "                      [-0.0225, -0.0949,  0.0128,  0.0483,  0.0196,  0.0955, -0.0776, -0.0467,\n",
       "                       -0.0010,  0.0795, -0.0301, -0.0748,  0.0158, -0.0146,  0.0651, -0.0579,\n",
       "                        0.0620, -0.0840,  0.0637, -0.0455, -0.0622, -0.0515, -0.0406, -0.0249,\n",
       "                        0.0504, -0.0331, -0.0941,  0.0726, -0.0195, -0.0735,  0.0901, -0.0543,\n",
       "                        0.0651,  0.0655, -0.0042, -0.0877, -0.0866,  0.0076,  0.0321, -0.0289,\n",
       "                       -0.0114, -0.0826,  0.0630, -0.0211, -0.0739, -0.0930,  0.0907,  0.0713,\n",
       "                       -0.0661, -0.0438,  0.0500, -0.0867, -0.0293,  0.0635,  0.0451,  0.0979,\n",
       "                        0.0094,  0.0109, -0.0261, -0.0707,  0.0427, -0.0710,  0.0006, -0.0087,\n",
       "                       -0.0514,  0.0482,  0.0579,  0.0511, -0.0226,  0.0328,  0.0787, -0.0567,\n",
       "                       -0.0097,  0.0834,  0.0331,  0.0743, -0.0770, -0.0900, -0.0922, -0.0088,\n",
       "                        0.0285,  0.0710,  0.0072,  0.0768,  0.0812,  0.0309,  0.0545,  0.0819,\n",
       "                        0.0537, -0.0888,  0.0515, -0.0616, -0.0854,  0.0107, -0.0480,  0.0910,\n",
       "                        0.0576, -0.0555, -0.0060, -0.0175],\n",
       "                      [-0.0644, -0.0708,  0.0209,  0.0329,  0.0482,  0.0828,  0.0829, -0.0171,\n",
       "                        0.0273, -0.0066,  0.0765,  0.0161,  0.0069, -0.0961, -0.0085, -0.0194,\n",
       "                        0.0111, -0.0248,  0.0107, -0.0302, -0.0192, -0.0252, -0.0770,  0.0834,\n",
       "                       -0.0385, -0.0799, -0.0538, -0.0744, -0.0948, -0.0604, -0.0246, -0.0027,\n",
       "                       -0.0701,  0.0230,  0.0309,  0.0880, -0.0687,  0.0262, -0.0229,  0.0344,\n",
       "                        0.0052, -0.0644, -0.0787,  0.0430, -0.0820, -0.0015,  0.0061, -0.0262,\n",
       "                        0.0009,  0.0333, -0.0682,  0.0184,  0.0889,  0.0205, -0.0063, -0.0095,\n",
       "                       -0.0432, -0.0122, -0.0832,  0.0927,  0.0611, -0.0952, -0.0850, -0.0273,\n",
       "                        0.0560, -0.0752, -0.0745,  0.0092,  0.0294,  0.0974,  0.0399, -0.0675,\n",
       "                       -0.0633,  0.0030, -0.0147,  0.0933, -0.0586,  0.0260,  0.0067,  0.0918,\n",
       "                        0.0591, -0.0291, -0.0634, -0.0233,  0.1000, -0.0054, -0.0166,  0.0485,\n",
       "                       -0.0777, -0.0462, -0.0323, -0.0876, -0.0284, -0.0036, -0.0697, -0.0183,\n",
       "                        0.0079,  0.0328,  0.0261,  0.0629],\n",
       "                      [ 0.0586, -0.0094,  0.0014, -0.0204, -0.0601, -0.0784, -0.0927, -0.0212,\n",
       "                        0.0041, -0.0510,  0.0767,  0.0306, -0.0509,  0.0304,  0.0084, -0.0481,\n",
       "                        0.0844,  0.0307, -0.0268, -0.0413,  0.0585,  0.0644, -0.0995, -0.0939,\n",
       "                        0.0302,  0.0022,  0.0455, -0.0715, -0.0192, -0.0798, -0.0744,  0.0838,\n",
       "                       -0.0649, -0.0696, -0.0453,  0.0800,  0.0948,  0.0143, -0.0076, -0.0739,\n",
       "                        0.0589, -0.0159, -0.0230,  0.0225,  0.0922, -0.0041,  0.0890, -0.0051,\n",
       "                       -0.0165,  0.0027, -0.0612, -0.0196, -0.0491, -0.0304, -0.0223, -0.0763,\n",
       "                       -0.0179,  0.0569, -0.0368, -0.0612, -0.0463,  0.0309, -0.0768, -0.0328,\n",
       "                        0.0200,  0.0466,  0.0067,  0.0393, -0.0401, -0.0789, -0.0201,  0.0605,\n",
       "                        0.0914,  0.0107, -0.0781,  0.0324, -0.0355, -0.0427, -0.0227, -0.0974,\n",
       "                       -0.0245, -0.0340,  0.0933, -0.0285, -0.0533,  0.0993, -0.0729,  0.0123,\n",
       "                        0.0660,  0.0665,  0.0459, -0.0268, -0.0184, -0.0730,  0.0960,  0.0979,\n",
       "                        0.0633, -0.0096,  0.0564,  0.0456],\n",
       "                      [ 0.0383,  0.0342, -0.0688, -0.0589, -0.0448,  0.0167, -0.0910, -0.0829,\n",
       "                        0.0782, -0.0941, -0.0275,  0.0228, -0.0691, -0.0048, -0.0928, -0.0816,\n",
       "                       -0.0912,  0.0053, -0.0716,  0.0771, -0.0495, -0.0984, -0.0364, -0.0374,\n",
       "                        0.0254,  0.0734, -0.0795,  0.0577, -0.0931, -0.0726, -0.0056, -0.0285,\n",
       "                        0.0857,  0.0764, -0.0165,  0.0393,  0.0457,  0.0713,  0.0487, -0.0219,\n",
       "                        0.0682,  0.0981, -0.0964,  0.0098, -0.0108,  0.0576, -0.0484,  0.0417,\n",
       "                        0.0186, -0.0203, -0.0018,  0.0553, -0.0058,  0.0731, -0.0264,  0.0282,\n",
       "                        0.0275, -0.0253, -0.0728,  0.0363,  0.0682,  0.0800, -0.0601,  0.0596,\n",
       "                       -0.0271,  0.0310, -0.0278,  0.0433,  0.0784, -0.0627, -0.0060,  0.0093,\n",
       "                       -0.0587, -0.0022,  0.0717, -0.0415, -0.0993, -0.0855,  0.0177,  0.0025,\n",
       "                        0.0505,  0.0574, -0.0163, -0.0414, -0.0902,  0.0511,  0.0127, -0.0671,\n",
       "                       -0.0430,  0.0248,  0.0919, -0.0347, -0.0820, -0.0033,  0.0159, -0.0541,\n",
       "                        0.0521, -0.0336,  0.0227,  0.0191]])),\n",
       "             ('output.bias',\n",
       "              tensor([-0.0310, -0.1811,  0.1415,  0.1943,  0.0641, -0.0373,  0.1394,  0.0522,\n",
       "                       0.0543, -0.0535]))])"
      ]
     },
     "execution_count": 16,
     "metadata": {},
     "output_type": "execute_result"
    }
   ],
   "source": [
    "model.state_dict()"
   ]
  },
  {
   "cell_type": "markdown",
   "metadata": {},
   "source": [
    "The simplest thing to do is simply save the state dict with `torch.save`. For example, we can save it to a file `'checkpoint.pth'`."
   ]
  },
  {
   "cell_type": "code",
   "execution_count": 9,
   "metadata": {},
   "outputs": [],
   "source": [
    "torch.save(model.state_dict(), 'checkpoint.pth')"
   ]
  },
  {
   "cell_type": "markdown",
   "metadata": {},
   "source": [
    "Then we can load the state dict with `torch.load`."
   ]
  },
  {
   "cell_type": "code",
   "execution_count": 10,
   "metadata": {},
   "outputs": [
    {
     "name": "stdout",
     "output_type": "stream",
     "text": [
      "odict_keys(['hidden_layers.0.weight', 'hidden_layers.0.bias', 'hidden_layers.1.weight', 'hidden_layers.1.bias', 'hidden_layers.2.weight', 'hidden_layers.2.bias', 'output.weight', 'output.bias'])\n"
     ]
    }
   ],
   "source": [
    "state_dict = torch.load('checkpoint.pth')\n",
    "print(state_dict.keys())"
   ]
  },
  {
   "cell_type": "markdown",
   "metadata": {},
   "source": [
    "And to load the state dict in to the network, you do `model.load_state_dict(state_dict)`."
   ]
  },
  {
   "cell_type": "code",
   "execution_count": 11,
   "metadata": {},
   "outputs": [
    {
     "data": {
      "text/plain": [
       "<All keys matched successfully>"
      ]
     },
     "execution_count": 11,
     "metadata": {},
     "output_type": "execute_result"
    }
   ],
   "source": [
    "model.load_state_dict(state_dict)"
   ]
  },
  {
   "cell_type": "markdown",
   "metadata": {},
   "source": [
    "Seems pretty straightforward, but as usual it's a bit more complicated. Loading the state dict works only if the model architecture is exactly the same as the checkpoint architecture. If I create a model with a different architecture, this fails."
   ]
  },
  {
   "cell_type": "code",
   "execution_count": 12,
   "metadata": {},
   "outputs": [
    {
     "ename": "RuntimeError",
     "evalue": "Error(s) in loading state_dict for Network:\n\tsize mismatch for hidden_layers.0.weight: copying a param with shape torch.Size([512, 784]) from checkpoint, the shape in current model is torch.Size([400, 784]).\n\tsize mismatch for hidden_layers.0.bias: copying a param with shape torch.Size([512]) from checkpoint, the shape in current model is torch.Size([400]).\n\tsize mismatch for hidden_layers.1.weight: copying a param with shape torch.Size([256, 512]) from checkpoint, the shape in current model is torch.Size([200, 400]).\n\tsize mismatch for hidden_layers.1.bias: copying a param with shape torch.Size([256]) from checkpoint, the shape in current model is torch.Size([200]).\n\tsize mismatch for hidden_layers.2.weight: copying a param with shape torch.Size([128, 256]) from checkpoint, the shape in current model is torch.Size([100, 200]).\n\tsize mismatch for hidden_layers.2.bias: copying a param with shape torch.Size([128]) from checkpoint, the shape in current model is torch.Size([100]).\n\tsize mismatch for output.weight: copying a param with shape torch.Size([10, 128]) from checkpoint, the shape in current model is torch.Size([10, 100]).",
     "output_type": "error",
     "traceback": [
      "\u001b[1;31m---------------------------------------------------------------------------\u001b[0m",
      "\u001b[1;31mRuntimeError\u001b[0m                              Traceback (most recent call last)",
      "\u001b[1;32m~\\AppData\\Local\\Temp/ipykernel_25412/1721305045.py\u001b[0m in \u001b[0;36m<module>\u001b[1;34m\u001b[0m\n\u001b[0;32m      2\u001b[0m \u001b[0mmodel\u001b[0m \u001b[1;33m=\u001b[0m \u001b[0mfc_model\u001b[0m\u001b[1;33m.\u001b[0m\u001b[0mNetwork\u001b[0m\u001b[1;33m(\u001b[0m\u001b[1;36m784\u001b[0m\u001b[1;33m,\u001b[0m \u001b[1;36m10\u001b[0m\u001b[1;33m,\u001b[0m \u001b[1;33m[\u001b[0m\u001b[1;36m400\u001b[0m\u001b[1;33m,\u001b[0m \u001b[1;36m200\u001b[0m\u001b[1;33m,\u001b[0m \u001b[1;36m100\u001b[0m\u001b[1;33m]\u001b[0m\u001b[1;33m)\u001b[0m\u001b[1;33m\u001b[0m\u001b[1;33m\u001b[0m\u001b[0m\n\u001b[0;32m      3\u001b[0m \u001b[1;31m# This will throw an error because the tensor sizes are wrong!\u001b[0m\u001b[1;33m\u001b[0m\u001b[1;33m\u001b[0m\u001b[1;33m\u001b[0m\u001b[0m\n\u001b[1;32m----> 4\u001b[1;33m \u001b[0mmodel\u001b[0m\u001b[1;33m.\u001b[0m\u001b[0mload_state_dict\u001b[0m\u001b[1;33m(\u001b[0m\u001b[0mstate_dict\u001b[0m\u001b[1;33m)\u001b[0m\u001b[1;33m\u001b[0m\u001b[1;33m\u001b[0m\u001b[0m\n\u001b[0m",
      "\u001b[1;32m~\\anaconda3\\lib\\site-packages\\torch\\nn\\modules\\module.py\u001b[0m in \u001b[0;36mload_state_dict\u001b[1;34m(self, state_dict, strict)\u001b[0m\n\u001b[0;32m   1404\u001b[0m \u001b[1;33m\u001b[0m\u001b[0m\n\u001b[0;32m   1405\u001b[0m         \u001b[1;32mif\u001b[0m \u001b[0mlen\u001b[0m\u001b[1;33m(\u001b[0m\u001b[0merror_msgs\u001b[0m\u001b[1;33m)\u001b[0m \u001b[1;33m>\u001b[0m \u001b[1;36m0\u001b[0m\u001b[1;33m:\u001b[0m\u001b[1;33m\u001b[0m\u001b[1;33m\u001b[0m\u001b[0m\n\u001b[1;32m-> 1406\u001b[1;33m             raise RuntimeError('Error(s) in loading state_dict for {}:\\n\\t{}'.format(\n\u001b[0m\u001b[0;32m   1407\u001b[0m                                self.__class__.__name__, \"\\n\\t\".join(error_msgs)))\n\u001b[0;32m   1408\u001b[0m         \u001b[1;32mreturn\u001b[0m \u001b[0m_IncompatibleKeys\u001b[0m\u001b[1;33m(\u001b[0m\u001b[0mmissing_keys\u001b[0m\u001b[1;33m,\u001b[0m \u001b[0munexpected_keys\u001b[0m\u001b[1;33m)\u001b[0m\u001b[1;33m\u001b[0m\u001b[1;33m\u001b[0m\u001b[0m\n",
      "\u001b[1;31mRuntimeError\u001b[0m: Error(s) in loading state_dict for Network:\n\tsize mismatch for hidden_layers.0.weight: copying a param with shape torch.Size([512, 784]) from checkpoint, the shape in current model is torch.Size([400, 784]).\n\tsize mismatch for hidden_layers.0.bias: copying a param with shape torch.Size([512]) from checkpoint, the shape in current model is torch.Size([400]).\n\tsize mismatch for hidden_layers.1.weight: copying a param with shape torch.Size([256, 512]) from checkpoint, the shape in current model is torch.Size([200, 400]).\n\tsize mismatch for hidden_layers.1.bias: copying a param with shape torch.Size([256]) from checkpoint, the shape in current model is torch.Size([200]).\n\tsize mismatch for hidden_layers.2.weight: copying a param with shape torch.Size([128, 256]) from checkpoint, the shape in current model is torch.Size([100, 200]).\n\tsize mismatch for hidden_layers.2.bias: copying a param with shape torch.Size([128]) from checkpoint, the shape in current model is torch.Size([100]).\n\tsize mismatch for output.weight: copying a param with shape torch.Size([10, 128]) from checkpoint, the shape in current model is torch.Size([10, 100])."
     ]
    }
   ],
   "source": [
    "# Try this\n",
    "model = fc_model.Network(784, 10, [400, 200, 100])\n",
    "# This will throw an error because the tensor sizes are wrong!\n",
    "model.load_state_dict(state_dict)"
   ]
  },
  {
   "cell_type": "markdown",
   "metadata": {},
   "source": [
    "This means we need to rebuild the model exactly as it was when trained. Information about the model architecture needs to be saved in the checkpoint, along with the state dict. To do this, you build a dictionary with all the information you need to compeletely rebuild the model."
   ]
  },
  {
   "cell_type": "code",
   "execution_count": 17,
   "metadata": {},
   "outputs": [],
   "source": [
    "checkpoint = {'input_size': 784,\n",
    "              'output_size': 10,\n",
    "              'hidden_layers': [each.out_features for each in model.hidden_layers],\n",
    "              'state_dict': model.state_dict()}\n",
    "\n",
    "torch.save(checkpoint, 'checkpoint.pth')"
   ]
  },
  {
   "cell_type": "markdown",
   "metadata": {},
   "source": [
    "Now the checkpoint has all the necessary information to rebuild the trained model. You can easily make that a function if you want. Similarly, we can write a function to load checkpoints. "
   ]
  },
  {
   "cell_type": "code",
   "execution_count": 18,
   "metadata": {},
   "outputs": [],
   "source": [
    "def load_checkpoint(filepath):\n",
    "    checkpoint = torch.load(filepath)\n",
    "    model = fc_model.Network(checkpoint['input_size'],\n",
    "                             checkpoint['output_size'],\n",
    "                             checkpoint['hidden_layers'])\n",
    "    model.load_state_dict(checkpoint['state_dict'])\n",
    "    \n",
    "    return model"
   ]
  },
  {
   "cell_type": "code",
   "execution_count": 19,
   "metadata": {},
   "outputs": [
    {
     "name": "stdout",
     "output_type": "stream",
     "text": [
      "Network(\n",
      "  (hidden_layers): ModuleList(\n",
      "    (0): Linear(in_features=784, out_features=400, bias=True)\n",
      "    (1): Linear(in_features=400, out_features=200, bias=True)\n",
      "    (2): Linear(in_features=200, out_features=100, bias=True)\n",
      "  )\n",
      "  (output): Linear(in_features=100, out_features=10, bias=True)\n",
      "  (dropout): Dropout(p=0.5, inplace=False)\n",
      ")\n"
     ]
    }
   ],
   "source": [
    "model = load_checkpoint('checkpoint.pth')\n",
    "print(model)"
   ]
  },
  {
   "cell_type": "code",
   "execution_count": null,
   "metadata": {},
   "outputs": [],
   "source": []
  }
 ],
 "metadata": {
  "kernelspec": {
   "display_name": "Python 3 (ipykernel)",
   "language": "python",
   "name": "python3"
  },
  "language_info": {
   "codemirror_mode": {
    "name": "ipython",
    "version": 3
   },
   "file_extension": ".py",
   "mimetype": "text/x-python",
   "name": "python",
   "nbconvert_exporter": "python",
   "pygments_lexer": "ipython3",
   "version": "3.8.11"
  }
 },
 "nbformat": 4,
 "nbformat_minor": 4
}
